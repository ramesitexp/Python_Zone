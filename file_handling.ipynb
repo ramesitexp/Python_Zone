{
 "cells": [
  {
   "cell_type": "code",
   "execution_count": null,
   "id": "fad6bb93-52fb-4326-b78b-a4084f28a336",
   "metadata": {},
   "outputs": [],
   "source": [
    "#File handling"
   ]
  },
  {
   "cell_type": "code",
   "execution_count": 1,
   "id": "351fd381-1b85-4527-a0b1-239e0859a005",
   "metadata": {},
   "outputs": [
    {
     "name": "stdout",
     "output_type": "stream",
     "text": [
      "README.md  sample-code.ipynb  Untitled.ipynb\n"
     ]
    }
   ],
   "source": [
    "%ls"
   ]
  },
  {
   "cell_type": "code",
   "execution_count": 2,
   "id": "052c6861-d8c0-42e4-92b0-143c19c3793d",
   "metadata": {},
   "outputs": [
    {
     "data": {
      "text/plain": [
       "'/home/jovyan/work'"
      ]
     },
     "execution_count": 2,
     "metadata": {},
     "output_type": "execute_result"
    }
   ],
   "source": [
    "pwd()"
   ]
  },
  {
   "cell_type": "code",
   "execution_count": 4,
   "id": "f92f910a-5300-4914-a674-004af5986ad5",
   "metadata": {},
   "outputs": [],
   "source": [
    "#used to open file\n",
    "f=open(\"test.txt\")"
   ]
  },
  {
   "cell_type": "code",
   "execution_count": 5,
   "id": "931d9acf-3f06-42b1-9fa2-b868db493170",
   "metadata": {},
   "outputs": [
    {
     "data": {
      "text/plain": [
       "_io.TextIOWrapper"
      ]
     },
     "execution_count": 5,
     "metadata": {},
     "output_type": "execute_result"
    }
   ],
   "source": [
    "type(f)"
   ]
  },
  {
   "cell_type": "code",
   "execution_count": 6,
   "id": "5fc73d5a-0e2a-4497-b261-9c16bfa0267b",
   "metadata": {},
   "outputs": [],
   "source": [
    "f.close()"
   ]
  },
  {
   "cell_type": "code",
   "execution_count": null,
   "id": "93c5da7f-b762-4790-846a-64adba106319",
   "metadata": {},
   "outputs": [],
   "source": [
    "#how to read the file"
   ]
  },
  {
   "cell_type": "code",
   "execution_count": 10,
   "id": "06fcbe88-b6c1-4770-bd26-40a636e8ddc7",
   "metadata": {},
   "outputs": [],
   "source": [
    "f=open(\"test.txt\")"
   ]
  },
  {
   "cell_type": "code",
   "execution_count": 8,
   "id": "c2b3eda7-a9c0-4d79-ac4f-31c0c17b90ea",
   "metadata": {},
   "outputs": [
    {
     "data": {
      "text/plain": [
       "'i write code\\nfirst line\\nsecond line\\nthird\\nineuron\\nsdfsdgsd\\nsdgdsg'"
      ]
     },
     "execution_count": 8,
     "metadata": {},
     "output_type": "execute_result"
    }
   ],
   "source": [
    "f.read()"
   ]
  },
  {
   "cell_type": "code",
   "execution_count": 9,
   "id": "96468966-5dd5-487c-9a81-d6629cba1e92",
   "metadata": {},
   "outputs": [
    {
     "data": {
      "text/plain": [
       "''"
      ]
     },
     "execution_count": 9,
     "metadata": {},
     "output_type": "execute_result"
    }
   ],
   "source": [
    "f.read()"
   ]
  },
  {
   "cell_type": "code",
   "execution_count": 11,
   "id": "a69544ed-f7a1-43e2-8239-58d35cd47cb0",
   "metadata": {},
   "outputs": [
    {
     "data": {
      "text/plain": [
       "'i wr'"
      ]
     },
     "execution_count": 11,
     "metadata": {},
     "output_type": "execute_result"
    }
   ],
   "source": [
    "f.read(4)\n",
    "#this will read 4 data"
   ]
  },
  {
   "cell_type": "code",
   "execution_count": 21,
   "id": "0508e66d-dc23-49e2-ad3f-4d44cad8f44b",
   "metadata": {},
   "outputs": [
    {
     "data": {
      "text/plain": [
       "'ode\\nf'"
      ]
     },
     "execution_count": 21,
     "metadata": {},
     "output_type": "execute_result"
    }
   ],
   "source": [
    "f.read(5)"
   ]
  },
  {
   "cell_type": "code",
   "execution_count": 16,
   "id": "e3e51d47-4594-4095-879a-d634d0b9dae2",
   "metadata": {},
   "outputs": [
    {
     "data": {
      "text/plain": [
       "0"
      ]
     },
     "execution_count": 16,
     "metadata": {},
     "output_type": "execute_result"
    }
   ],
   "source": [
    "f.seek(0)"
   ]
  },
  {
   "cell_type": "code",
   "execution_count": 19,
   "id": "886a9530-5bbf-4c10-b83e-52cbb5b7e9ad",
   "metadata": {},
   "outputs": [
    {
     "data": {
      "text/plain": [
       "9"
      ]
     },
     "execution_count": 19,
     "metadata": {},
     "output_type": "execute_result"
    }
   ],
   "source": [
    "f.seek(9)"
   ]
  },
  {
   "cell_type": "code",
   "execution_count": 20,
   "id": "2ed8e98c-fe93-4e42-ae74-3cded170d9cc",
   "metadata": {},
   "outputs": [
    {
     "data": {
      "text/plain": [
       "9"
      ]
     },
     "execution_count": 20,
     "metadata": {},
     "output_type": "execute_result"
    }
   ],
   "source": [
    "f.tell()\n",
    "#get the current file position"
   ]
  },
  {
   "cell_type": "code",
   "execution_count": 22,
   "id": "522f3bc3-2e8f-4b38-abee-7b05a395d85d",
   "metadata": {},
   "outputs": [
    {
     "data": {
      "text/plain": [
       "['irst line\\n',\n",
       " 'second line\\n',\n",
       " 'third\\n',\n",
       " 'ineuron\\n',\n",
       " 'sdfsdgsd\\n',\n",
       " 'sdgdsg']"
      ]
     },
     "execution_count": 22,
     "metadata": {},
     "output_type": "execute_result"
    }
   ],
   "source": [
    "f.readlines()"
   ]
  },
  {
   "cell_type": "code",
   "execution_count": null,
   "id": "11becb7d-af57-44d1-af33-4a32bce49c47",
   "metadata": {},
   "outputs": [],
   "source": [
    "with open(\"test.txt\") as f\n",
    "    #file operation\n",
    "    f.read()\n",
    "    pass"
   ]
  },
  {
   "cell_type": "code",
   "execution_count": 31,
   "id": "26d4f032-0e59-436e-b4c1-819f2e048bf3",
   "metadata": {},
   "outputs": [
    {
     "name": "stdout",
     "output_type": "stream",
     "text": [
      "done\n"
     ]
    }
   ],
   "source": [
    "data='welcome'\n",
    "f=open('test1.txt','w')\n",
    "f.write(data)\n",
    "print(\"done\")\n",
    "f.close()\n"
   ]
  },
  {
   "cell_type": "code",
   "execution_count": 34,
   "id": "53767aaf-f75b-420e-b526-730f97e96560",
   "metadata": {},
   "outputs": [],
   "source": [
    "with open(\"test2.txt\",\"w\") as f:\n",
    "    f.write('first line\\n')\n",
    "    f.write('second line')"
   ]
  },
  {
   "cell_type": "code",
   "execution_count": 43,
   "id": "042d01d9-04c7-4394-b9bb-68a38361aa22",
   "metadata": {},
   "outputs": [
    {
     "name": "stdin",
     "output_type": "stream",
     "text": [
      "enter the first number 10\n",
      "enter the second number 0\n"
     ]
    },
    {
     "name": "stdout",
     "output_type": "stream",
     "text": [
      "there is some issue with the code division by zero\n",
      "<class 'ZeroDivisionError'>\n"
     ]
    }
   ],
   "source": [
    "try:\n",
    "    a=int(input(\"enter the first number\"))\n",
    "    b=int(input(\"enter the second number\"))\n",
    "    c=a/b\n",
    "except ArithmeticError as e:\n",
    "    print(\"there is some issue with the code\",e)\n",
    "    f=open('igate.txt','w+')\n",
    "    print(type(e))\n",
    "    f.write(str(e))\n",
    "    f.read()\n",
    "else:\n",
    "    print(\"this will execute once try is success\")\n",
    "    try:\n",
    "        f=open(\"test3.txt\",'w')\n",
    "    except:\n",
    "        print(\"The issue is with try block\")"
   ]
  },
  {
   "cell_type": "code",
   "execution_count": null,
   "id": "5eb3a863-1ce3-4077-b483-a654f6b9b823",
   "metadata": {},
   "outputs": [],
   "source": [
    "#r open file for reading\n",
    "#w opens file for writing and create a new file if doesnot exists or truncate a file if its already exists\n",
    "#x opens a file exclustive creation if the file already exists operation\n",
    "#a opens a file for appending at the end of file\n",
    "#+ opens a file for updating (reading and writing)\n"
   ]
  },
  {
   "cell_type": "code",
   "execution_count": 45,
   "id": "c1cb7d75-105c-4609-a9ca-9d50d75a5299",
   "metadata": {},
   "outputs": [
    {
     "ename": "FileExistsError",
     "evalue": "[Errno 17] File exists: 'new.txt'",
     "output_type": "error",
     "traceback": [
      "\u001b[0;31m---------------------------------------------------------------------------\u001b[0m",
      "\u001b[0;31mFileExistsError\u001b[0m                           Traceback (most recent call last)",
      "Cell \u001b[0;32mIn [45], line 1\u001b[0m\n\u001b[0;32m----> 1\u001b[0m f\u001b[38;5;241m=\u001b[39m\u001b[38;5;28;43mopen\u001b[39;49m\u001b[43m(\u001b[49m\u001b[38;5;124;43m\"\u001b[39;49m\u001b[38;5;124;43mnew.txt\u001b[39;49m\u001b[38;5;124;43m\"\u001b[39;49m\u001b[43m,\u001b[49m\u001b[38;5;124;43m'\u001b[39;49m\u001b[38;5;124;43mx\u001b[39;49m\u001b[38;5;124;43m'\u001b[39;49m\u001b[43m)\u001b[49m\n",
      "\u001b[0;31mFileExistsError\u001b[0m: [Errno 17] File exists: 'new.txt'"
     ]
    }
   ],
   "source": [
    "f=open(\"new.txt\",'x')"
   ]
  },
  {
   "cell_type": "code",
   "execution_count": null,
   "id": "b33347fc-5dee-4c50-b9ea-6a3a84a68b26",
   "metadata": {},
   "outputs": [],
   "source": [
    "#Iterable and Iyerators"
   ]
  },
  {
   "cell_type": "code",
   "execution_count": 48,
   "id": "a4578e00-5eed-4f98-80ad-7a48aad5c48e",
   "metadata": {},
   "outputs": [],
   "source": [
    "mytuple=('a','b','c')"
   ]
  },
  {
   "cell_type": "code",
   "execution_count": 49,
   "id": "57d8738c-7bf3-489d-9800-eaaf51aa2507",
   "metadata": {},
   "outputs": [
    {
     "name": "stdout",
     "output_type": "stream",
     "text": [
      "a\n",
      "b\n",
      "c\n"
     ]
    }
   ],
   "source": [
    "for i in mytuple:\n",
    "    print(i)"
   ]
  },
  {
   "cell_type": "code",
   "execution_count": 50,
   "id": "fee36e71-e119-4ed6-b17b-374473b58c05",
   "metadata": {},
   "outputs": [
    {
     "data": {
      "text/plain": [
       "['__add__',\n",
       " '__class__',\n",
       " '__class_getitem__',\n",
       " '__contains__',\n",
       " '__delattr__',\n",
       " '__dir__',\n",
       " '__doc__',\n",
       " '__eq__',\n",
       " '__format__',\n",
       " '__ge__',\n",
       " '__getattribute__',\n",
       " '__getitem__',\n",
       " '__getnewargs__',\n",
       " '__gt__',\n",
       " '__hash__',\n",
       " '__init__',\n",
       " '__init_subclass__',\n",
       " '__iter__',\n",
       " '__le__',\n",
       " '__len__',\n",
       " '__lt__',\n",
       " '__mul__',\n",
       " '__ne__',\n",
       " '__new__',\n",
       " '__reduce__',\n",
       " '__reduce_ex__',\n",
       " '__repr__',\n",
       " '__rmul__',\n",
       " '__setattr__',\n",
       " '__sizeof__',\n",
       " '__str__',\n",
       " '__subclasshook__',\n",
       " 'count',\n",
       " 'index']"
      ]
     },
     "execution_count": 50,
     "metadata": {},
     "output_type": "execute_result"
    }
   ],
   "source": [
    "dir(mytuple)"
   ]
  },
  {
   "cell_type": "code",
   "execution_count": 51,
   "id": "7d3b0c4f-1200-4a8e-9cc4-0172d300243f",
   "metadata": {},
   "outputs": [
    {
     "name": "stdout",
     "output_type": "stream",
     "text": [
      "R\n",
      "a\n",
      "m\n",
      "e\n",
      "s\n",
      "h\n"
     ]
    }
   ],
   "source": [
    "mystr=\"Ramesh\"\n",
    "for i in mystr:\n",
    "    print(i)"
   ]
  },
  {
   "cell_type": "code",
   "execution_count": 52,
   "id": "183931c0-4e54-40f7-89d0-98c0b05ef950",
   "metadata": {},
   "outputs": [
    {
     "data": {
      "text/plain": [
       "['__add__',\n",
       " '__class__',\n",
       " '__contains__',\n",
       " '__delattr__',\n",
       " '__dir__',\n",
       " '__doc__',\n",
       " '__eq__',\n",
       " '__format__',\n",
       " '__ge__',\n",
       " '__getattribute__',\n",
       " '__getitem__',\n",
       " '__getnewargs__',\n",
       " '__gt__',\n",
       " '__hash__',\n",
       " '__init__',\n",
       " '__init_subclass__',\n",
       " '__iter__',\n",
       " '__le__',\n",
       " '__len__',\n",
       " '__lt__',\n",
       " '__mod__',\n",
       " '__mul__',\n",
       " '__ne__',\n",
       " '__new__',\n",
       " '__reduce__',\n",
       " '__reduce_ex__',\n",
       " '__repr__',\n",
       " '__rmod__',\n",
       " '__rmul__',\n",
       " '__setattr__',\n",
       " '__sizeof__',\n",
       " '__str__',\n",
       " '__subclasshook__',\n",
       " 'capitalize',\n",
       " 'casefold',\n",
       " 'center',\n",
       " 'count',\n",
       " 'encode',\n",
       " 'endswith',\n",
       " 'expandtabs',\n",
       " 'find',\n",
       " 'format',\n",
       " 'format_map',\n",
       " 'index',\n",
       " 'isalnum',\n",
       " 'isalpha',\n",
       " 'isascii',\n",
       " 'isdecimal',\n",
       " 'isdigit',\n",
       " 'isidentifier',\n",
       " 'islower',\n",
       " 'isnumeric',\n",
       " 'isprintable',\n",
       " 'isspace',\n",
       " 'istitle',\n",
       " 'isupper',\n",
       " 'join',\n",
       " 'ljust',\n",
       " 'lower',\n",
       " 'lstrip',\n",
       " 'maketrans',\n",
       " 'partition',\n",
       " 'removeprefix',\n",
       " 'removesuffix',\n",
       " 'replace',\n",
       " 'rfind',\n",
       " 'rindex',\n",
       " 'rjust',\n",
       " 'rpartition',\n",
       " 'rsplit',\n",
       " 'rstrip',\n",
       " 'split',\n",
       " 'splitlines',\n",
       " 'startswith',\n",
       " 'strip',\n",
       " 'swapcase',\n",
       " 'title',\n",
       " 'translate',\n",
       " 'upper',\n",
       " 'zfill']"
      ]
     },
     "execution_count": 52,
     "metadata": {},
     "output_type": "execute_result"
    }
   ],
   "source": [
    "dir(mystr)"
   ]
  },
  {
   "cell_type": "code",
   "execution_count": 53,
   "id": "b326f1a0-e74f-42dc-bdd2-cbf9e280613a",
   "metadata": {},
   "outputs": [
    {
     "name": "stdout",
     "output_type": "stream",
     "text": [
      "1\n",
      "2\n",
      "3\n",
      "4\n"
     ]
    }
   ],
   "source": [
    "mylist=[1,2,3,4]\n",
    "for i in mylist:\n",
    "    print(i)"
   ]
  },
  {
   "cell_type": "code",
   "execution_count": 54,
   "id": "75841849-b5b2-4e41-aab7-0a07bda3cce1",
   "metadata": {},
   "outputs": [],
   "source": [
    "d={'x':43,'y':3.14,'z':7}"
   ]
  },
  {
   "cell_type": "code",
   "execution_count": 55,
   "id": "e98e6ff1-441d-4bdd-aee0-be32c8b74b8a",
   "metadata": {},
   "outputs": [
    {
     "name": "stdout",
     "output_type": "stream",
     "text": [
      "x 43\n",
      "y 3.14\n",
      "z 7\n"
     ]
    }
   ],
   "source": [
    "for k,v in d.items():\n",
    "    print(k,v)"
   ]
  },
  {
   "cell_type": "code",
   "execution_count": 56,
   "id": "b2026d87-a11e-4098-9cbb-d63f26860ad2",
   "metadata": {},
   "outputs": [],
   "source": [
    "x=42"
   ]
  },
  {
   "cell_type": "code",
   "execution_count": 57,
   "id": "3332aaac-0f76-4068-83da-0349d6ce697e",
   "metadata": {},
   "outputs": [
    {
     "data": {
      "text/plain": [
       "['__abs__',\n",
       " '__add__',\n",
       " '__and__',\n",
       " '__bool__',\n",
       " '__ceil__',\n",
       " '__class__',\n",
       " '__delattr__',\n",
       " '__dir__',\n",
       " '__divmod__',\n",
       " '__doc__',\n",
       " '__eq__',\n",
       " '__float__',\n",
       " '__floor__',\n",
       " '__floordiv__',\n",
       " '__format__',\n",
       " '__ge__',\n",
       " '__getattribute__',\n",
       " '__getnewargs__',\n",
       " '__gt__',\n",
       " '__hash__',\n",
       " '__index__',\n",
       " '__init__',\n",
       " '__init_subclass__',\n",
       " '__int__',\n",
       " '__invert__',\n",
       " '__le__',\n",
       " '__lshift__',\n",
       " '__lt__',\n",
       " '__mod__',\n",
       " '__mul__',\n",
       " '__ne__',\n",
       " '__neg__',\n",
       " '__new__',\n",
       " '__or__',\n",
       " '__pos__',\n",
       " '__pow__',\n",
       " '__radd__',\n",
       " '__rand__',\n",
       " '__rdivmod__',\n",
       " '__reduce__',\n",
       " '__reduce_ex__',\n",
       " '__repr__',\n",
       " '__rfloordiv__',\n",
       " '__rlshift__',\n",
       " '__rmod__',\n",
       " '__rmul__',\n",
       " '__ror__',\n",
       " '__round__',\n",
       " '__rpow__',\n",
       " '__rrshift__',\n",
       " '__rshift__',\n",
       " '__rsub__',\n",
       " '__rtruediv__',\n",
       " '__rxor__',\n",
       " '__setattr__',\n",
       " '__sizeof__',\n",
       " '__str__',\n",
       " '__sub__',\n",
       " '__subclasshook__',\n",
       " '__truediv__',\n",
       " '__trunc__',\n",
       " '__xor__',\n",
       " 'as_integer_ratio',\n",
       " 'bit_count',\n",
       " 'bit_length',\n",
       " 'conjugate',\n",
       " 'denominator',\n",
       " 'from_bytes',\n",
       " 'imag',\n",
       " 'numerator',\n",
       " 'real',\n",
       " 'to_bytes']"
      ]
     },
     "execution_count": 57,
     "metadata": {},
     "output_type": "execute_result"
    }
   ],
   "source": [
    "dir(x)"
   ]
  },
  {
   "cell_type": "code",
   "execution_count": 58,
   "id": "097b8eab-82a5-4bbc-9a15-7ce1f12293d9",
   "metadata": {},
   "outputs": [
    {
     "ename": "TypeError",
     "evalue": "'int' object is not iterable",
     "output_type": "error",
     "traceback": [
      "\u001b[0;31m---------------------------------------------------------------------------\u001b[0m",
      "\u001b[0;31mTypeError\u001b[0m                                 Traceback (most recent call last)",
      "Cell \u001b[0;32mIn [58], line 1\u001b[0m\n\u001b[0;32m----> 1\u001b[0m \u001b[38;5;28;01mfor\u001b[39;00m i \u001b[38;5;129;01min\u001b[39;00m x:\n\u001b[1;32m      2\u001b[0m     \u001b[38;5;28mprint\u001b[39m(i)\n",
      "\u001b[0;31mTypeError\u001b[0m: 'int' object is not iterable"
     ]
    }
   ],
   "source": [
    "for i in x:\n",
    "    print(i)"
   ]
  },
  {
   "cell_type": "code",
   "execution_count": 59,
   "id": "b1888989-a609-49bf-9440-49c867fcff0a",
   "metadata": {},
   "outputs": [],
   "source": [
    "data=['a','b','c']\n"
   ]
  },
  {
   "cell_type": "code",
   "execution_count": 68,
   "id": "2f7359aa-d59e-4e51-a96f-df865dd8ca45",
   "metadata": {},
   "outputs": [],
   "source": [
    "x=iter(data)"
   ]
  },
  {
   "cell_type": "code",
   "execution_count": 66,
   "id": "636f9369-0f8b-4958-b40c-17ce68c6decb",
   "metadata": {},
   "outputs": [
    {
     "data": {
      "text/plain": [
       "list"
      ]
     },
     "execution_count": 66,
     "metadata": {},
     "output_type": "execute_result"
    }
   ],
   "source": [
    "type(data)"
   ]
  },
  {
   "cell_type": "code",
   "execution_count": 72,
   "id": "0bf6fc8b-9bca-422e-a2e0-7c30f151deef",
   "metadata": {},
   "outputs": [
    {
     "ename": "StopIteration",
     "evalue": "",
     "output_type": "error",
     "traceback": [
      "\u001b[0;31m---------------------------------------------------------------------------\u001b[0m",
      "\u001b[0;31mStopIteration\u001b[0m                             Traceback (most recent call last)",
      "Cell \u001b[0;32mIn [72], line 1\u001b[0m\n\u001b[0;32m----> 1\u001b[0m \u001b[38;5;28;43mnext\u001b[39;49m\u001b[43m(\u001b[49m\u001b[43mx\u001b[49m\u001b[43m)\u001b[49m\n",
      "\u001b[0;31mStopIteration\u001b[0m: "
     ]
    }
   ],
   "source": [
    "next(x)"
   ]
  },
  {
   "cell_type": "code",
   "execution_count": 81,
   "id": "b449cda8-de89-452a-9d33-d96ac760b97a",
   "metadata": {},
   "outputs": [],
   "source": [
    "s='Rames'\n"
   ]
  },
  {
   "cell_type": "code",
   "execution_count": 82,
   "id": "912c35fe-e764-4eaa-9e05-c2ec37932a1d",
   "metadata": {},
   "outputs": [],
   "source": [
    "c=iter(s)"
   ]
  },
  {
   "cell_type": "code",
   "execution_count": 88,
   "id": "150160d1-e186-433f-a1bb-e54459be0a8a",
   "metadata": {},
   "outputs": [
    {
     "ename": "StopIteration",
     "evalue": "",
     "output_type": "error",
     "traceback": [
      "\u001b[0;31m---------------------------------------------------------------------------\u001b[0m",
      "\u001b[0;31mStopIteration\u001b[0m                             Traceback (most recent call last)",
      "Cell \u001b[0;32mIn [88], line 1\u001b[0m\n\u001b[0;32m----> 1\u001b[0m \u001b[38;5;28;43mnext\u001b[39;49m\u001b[43m(\u001b[49m\u001b[43mc\u001b[49m\u001b[43m)\u001b[49m\n",
      "\u001b[0;31mStopIteration\u001b[0m: "
     ]
    }
   ],
   "source": [
    "next(c)"
   ]
  },
  {
   "cell_type": "code",
   "execution_count": null,
   "id": "b5c0a873-50f4-4122-ad6b-d1dfa0ebe44d",
   "metadata": {},
   "outputs": [],
   "source": [
    "#iterable are not iterators\n",
    "#iterator also iterables\n",
    "#calling iter function on iterables gives an iterator\n",
    "#calling next() function an iterator gives next elements"
   ]
  },
  {
   "cell_type": "code",
   "execution_count": 89,
   "id": "e04584f5-b23c-4148-b44f-7baf36779d34",
   "metadata": {},
   "outputs": [],
   "source": [
    "l=[1,2,3,4]"
   ]
  },
  {
   "cell_type": "code",
   "execution_count": 90,
   "id": "5f02ba8e-26d9-45bb-a68c-f9659383aa1b",
   "metadata": {},
   "outputs": [],
   "source": [
    "k=iter(l)"
   ]
  },
  {
   "cell_type": "code",
   "execution_count": null,
   "id": "6ed546ef-eff6-4ba5-8f56-6798f87c483b",
   "metadata": {},
   "outputs": [],
   "source": [
    "type(k)"
   ]
  },
  {
   "cell_type": "code",
   "execution_count": 91,
   "id": "afa049aa-2621-4caa-a253-61d8c78a71cd",
   "metadata": {},
   "outputs": [
    {
     "name": "stdout",
     "output_type": "stream",
     "text": [
      "1\n",
      "2\n",
      "3\n",
      "4\n"
     ]
    }
   ],
   "source": [
    "for i in k:\n",
    "    print(i)"
   ]
  },
  {
   "cell_type": "code",
   "execution_count": 92,
   "id": "2f9248c1-6d6b-4555-a7a0-65eb834ace65",
   "metadata": {},
   "outputs": [
    {
     "name": "stdout",
     "output_type": "stream",
     "text": [
      "1\n",
      "2\n",
      "3\n",
      "4\n"
     ]
    }
   ],
   "source": [
    "for i in l:\n",
    "    print(i)"
   ]
  },
  {
   "cell_type": "code",
   "execution_count": 2,
   "id": "9b37a410-2b4a-429b-9647-b6071a77b9e6",
   "metadata": {},
   "outputs": [],
   "source": [
    "def square(n):\n",
    "    for i in range(n):\n",
    "        return i**2"
   ]
  },
  {
   "cell_type": "code",
   "execution_count": 3,
   "id": "e3ace2ea-2ca4-48d8-8753-9bfe6edc47b2",
   "metadata": {},
   "outputs": [
    {
     "data": {
      "text/plain": [
       "0"
      ]
     },
     "execution_count": 3,
     "metadata": {},
     "output_type": "execute_result"
    }
   ],
   "source": [
    "square(3)"
   ]
  },
  {
   "cell_type": "code",
   "execution_count": 39,
   "id": "f774f023-9495-474c-b57a-043ecc6f637a",
   "metadata": {},
   "outputs": [],
   "source": [
    "def square(n):\n",
    "    for i in range(n):\n",
    "        yield i**2"
   ]
  },
  {
   "cell_type": "code",
   "execution_count": 40,
   "id": "62411be1-8735-4f1a-809c-d1ab6a90fe77",
   "metadata": {},
   "outputs": [],
   "source": [
    "k=square(3)"
   ]
  },
  {
   "cell_type": "code",
   "execution_count": 44,
   "id": "95a8a194-2925-4cd4-b7b7-08b42014eeba",
   "metadata": {},
   "outputs": [
    {
     "ename": "StopIteration",
     "evalue": "",
     "output_type": "error",
     "traceback": [
      "\u001b[0;31m---------------------------------------------------------------------------\u001b[0m",
      "\u001b[0;31mStopIteration\u001b[0m                             Traceback (most recent call last)",
      "Cell \u001b[0;32mIn [44], line 1\u001b[0m\n\u001b[0;32m----> 1\u001b[0m \u001b[38;5;28;43mnext\u001b[39;49m\u001b[43m(\u001b[49m\u001b[43mk\u001b[49m\u001b[43m)\u001b[49m\n",
      "\u001b[0;31mStopIteration\u001b[0m: "
     ]
    }
   ],
   "source": [
    "next(k)"
   ]
  },
  {
   "cell_type": "code",
   "execution_count": 6,
   "id": "f63470c2-d507-4711-b6df-9a6bfae42987",
   "metadata": {},
   "outputs": [
    {
     "data": {
      "text/plain": [
       "generator"
      ]
     },
     "execution_count": 6,
     "metadata": {},
     "output_type": "execute_result"
    }
   ],
   "source": [
    "type(k)"
   ]
  },
  {
   "cell_type": "code",
   "execution_count": 12,
   "id": "673d745a-f63e-40cb-ae63-0bf443371039",
   "metadata": {},
   "outputs": [
    {
     "name": "stdout",
     "output_type": "stream",
     "text": [
      "0\n",
      "1\n",
      "4\n"
     ]
    }
   ],
   "source": [
    "for i in k:\n",
    "    print(i)"
   ]
  },
  {
   "cell_type": "code",
   "execution_count": 13,
   "id": "90035985-9f2d-41d7-b4c7-87cc1d89d56c",
   "metadata": {},
   "outputs": [],
   "source": [
    "def new():\n",
    "    n=1\n",
    "    print('line one')\n",
    "    yield n\n",
    "    n=n+1\n",
    "    print('second line')\n",
    "    yield n\n",
    "    n=n+1\n",
    "    print('third')\n",
    "    yield n\n",
    "    \n",
    "    "
   ]
  },
  {
   "cell_type": "code",
   "execution_count": 14,
   "id": "4e3fa7fa-8ab8-4ab4-ad67-1935b280a558",
   "metadata": {},
   "outputs": [
    {
     "name": "stdout",
     "output_type": "stream",
     "text": [
      "line one\n",
      "1\n",
      "second line\n",
      "2\n",
      "third\n",
      "3\n"
     ]
    }
   ],
   "source": [
    "for i in new():\n",
    "    print(i)"
   ]
  },
  {
   "cell_type": "code",
   "execution_count": 22,
   "id": "327880a2-0bc9-45c3-9430-0b8dc9047911",
   "metadata": {},
   "outputs": [],
   "source": [
    "def gencube(n):\n",
    "    l=[]\n",
    "    for i in range(n):\n",
    "        l.append(i**3)\n",
    "    return l"
   ]
  },
  {
   "cell_type": "code",
   "execution_count": null,
   "id": "abe7da61-84b7-4cf5-a0f2-5b54e8ab5e16",
   "metadata": {},
   "outputs": [],
   "source": [
    "gencube(300000000)"
   ]
  },
  {
   "cell_type": "code",
   "execution_count": 9,
   "id": "efc19bef-35c5-45db-8ae2-b7c225e3dedc",
   "metadata": {},
   "outputs": [],
   "source": [
    "def gencube(n):\n",
    "    l=[]\n",
    "    for i in range(n):\n",
    "        yield i**3"
   ]
  },
  {
   "cell_type": "code",
   "execution_count": 10,
   "id": "0c1ccdf4-9b50-4101-807e-c65b69363ebe",
   "metadata": {},
   "outputs": [],
   "source": [
    "k=gencube(300000000)"
   ]
  },
  {
   "cell_type": "code",
   "execution_count": 29,
   "id": "bc1be3af-adf6-4050-918f-334fce1e7aa8",
   "metadata": {},
   "outputs": [
    {
     "data": {
      "text/plain": [
       "5832"
      ]
     },
     "execution_count": 29,
     "metadata": {},
     "output_type": "execute_result"
    }
   ],
   "source": [
    "next(k)"
   ]
  },
  {
   "cell_type": "code",
   "execution_count": 33,
   "id": "0c9b7765-be04-4666-a692-89b27f91d102",
   "metadata": {},
   "outputs": [],
   "source": [
    "nums=[1,2,3]"
   ]
  },
  {
   "cell_type": "code",
   "execution_count": 35,
   "id": "e14c665f-5f4e-4318-960f-f9cd8d9a58f2",
   "metadata": {},
   "outputs": [],
   "source": [
    "i_nums=iter(nums)"
   ]
  },
  {
   "cell_type": "code",
   "execution_count": 36,
   "id": "d4a5f7f0-3a4a-41e2-9619-06c630d30f75",
   "metadata": {},
   "outputs": [
    {
     "name": "stdout",
     "output_type": "stream",
     "text": [
      "1\n",
      "2\n",
      "3\n"
     ]
    }
   ],
   "source": [
    "while True:\n",
    "    try:\n",
    "        item=next(i_nums)\n",
    "        print(item)\n",
    "    except StopIteration:\n",
    "        break"
   ]
  },
  {
   "cell_type": "code",
   "execution_count": null,
   "id": "6a4c2980-7d4e-4ad6-bb1f-c92a244f9db2",
   "metadata": {},
   "outputs": [],
   "source": []
  },
  {
   "cell_type": "code",
   "execution_count": null,
   "id": "578ff8ab-02d9-485d-8342-d49feaf66a0f",
   "metadata": {},
   "outputs": [],
   "source": []
  }
 ],
 "metadata": {
  "kernelspec": {
   "display_name": "Python 3 (ipykernel)",
   "language": "python",
   "name": "python3"
  },
  "language_info": {
   "codemirror_mode": {
    "name": "ipython",
    "version": 3
   },
   "file_extension": ".py",
   "mimetype": "text/x-python",
   "name": "python",
   "nbconvert_exporter": "python",
   "pygments_lexer": "ipython3",
   "version": "3.10.6"
  }
 },
 "nbformat": 4,
 "nbformat_minor": 5
}
