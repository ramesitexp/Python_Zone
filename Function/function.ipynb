{
 "cells": [
  {
   "cell_type": "markdown",
   "metadata": {},
   "source": [
    "1: Fibonacci Sequence with Memoization\n",
    "Define a recursive function to calculate the nth Fibonacci number using memoization. Test the function with different inputs.\n"
   ]
  },
  {
   "cell_type": "code",
   "execution_count": 4,
   "metadata": {},
   "outputs": [
    {
     "name": "stdout",
     "output_type": "stream",
     "text": [
      "{0: 0, 1: 1, 5: 5, 10: 55, 20: 6765}\n"
     ]
    }
   ],
   "source": [
    "def fib(num):\n",
    "\n",
    "    if num <= 1:\n",
    "        return num\n",
    "    else:\n",
    "        return fib(num-1)+fib(num-2)\n",
    "    \n",
    "# num=int(input(\"Enter the number of fibnocci:\"))\n",
    "\n",
    "test_cases=[0, 1, 5, 10, 20]\n",
    "results={n:fib(n) for n in test_cases}\n",
    "print(results)"
   ]
  },
  {
   "cell_type": "markdown",
   "metadata": {},
   "source": [
    " 2: Function with Nested Default Arguments\n",
    "\n",
    "Define a function that takes two arguments, a and b, where b is a dictionary with a default value of an empty dictionary. The function should add a new key-value pair to the dictionary and return it. Test the function with different inputs."
   ]
  },
  {
   "cell_type": "code",
   "execution_count": 9,
   "metadata": {},
   "outputs": [
    {
     "name": "stdout",
     "output_type": "stream",
     "text": [
      "[{1: 1}, {2: 4}, {3: 9}, {4: 16}, {5: 25}, {6: 36}, {7: 49}, {8: 64}, {9: 81}, {10: 100}]\n"
     ]
    }
   ],
   "source": [
    "def add_to_dict(a, b=None):\n",
    "    if b is None:\n",
    "        b = {}\n",
    "\n",
    "    b[a] = a**2\n",
    "    return b\n",
    "\n",
    "\n",
    "val=[1,2,3,4,5,6,7,8,9,10]\n",
    "\n",
    "results=[add_to_dict(i) for i in val]\n",
    "print(results)\n"
   ]
  },
  {
   "cell_type": "markdown",
   "metadata": {},
   "source": [
    " 3: Function with Variable Keyword Arguments\n",
    "\n",
    "Define a function that takes a variable number of keyword arguments and returns a dictionary containing only those key-value pairs where the value is an integer. Test the function with different inputs."
   ]
  },
  {
   "cell_type": "code",
   "execution_count": 12,
   "metadata": {},
   "outputs": [
    {
     "name": "stdout",
     "output_type": "stream",
     "text": [
      "{'a': 1, 'b': 2}\n",
      "{'x': 10, 'y': 20}\n",
      "{'q': 123, 'r': 456}\n"
     ]
    }
   ],
   "source": [
    "def filter_integers(**kwargs):\n",
    "    return {key:value for key, value in kwargs.items() if isinstance(value,int)}\n",
    "\n",
    "result1=filter_integers(a=1,b=2,c=2.3)\n",
    "result2 = filter_integers(x=10, y=20, z='test')\n",
    "result3 = filter_integers(p='abc', q=123, r=456, s=[1, 2, 3])\n",
    "print(result1)\n",
    "print(result2)\n",
    "print(result3)\n"
   ]
  },
  {
   "cell_type": "markdown",
   "metadata": {},
   "source": [
    "4: Function with Callback\n",
    "\n",
    "Define a function that takes another function as a callback and a list of integers. The function should apply the callback to each integer in the list and return a new list with the results. Test with different callback functions."
   ]
  },
  {
   "cell_type": "code",
   "execution_count": 13,
   "metadata": {},
   "outputs": [
    {
     "data": {
      "text/plain": [
       "([1, 4, 9, 16, 25], [2, 4, 6, 8, 10], [-1, -2, -3, -4, -5])"
      ]
     },
     "execution_count": 13,
     "metadata": {},
     "output_type": "execute_result"
    }
   ],
   "source": [
    "def apply_callback(callback, int_list):\n",
    "    # Apply the callback function to each element in the list\n",
    "    return [callback(x) for x in int_list]\n",
    "\n",
    "# Define some sample callback functions\n",
    "def square(x):\n",
    "    return x ** 2\n",
    "\n",
    "def double(x):\n",
    "    return x * 2\n",
    "\n",
    "def negate(x):\n",
    "    return -x\n",
    "\n",
    "# Test the function with different callback functions and inputs\n",
    "result1 = apply_callback(square, [1, 2, 3, 4, 5])\n",
    "result2 = apply_callback(double, [1, 2, 3, 4, 5])\n",
    "result3 = apply_callback(negate, [1, 2, 3, 4, 5])\n",
    "\n",
    "result1, result2, result3\n"
   ]
  },
  {
   "cell_type": "code",
   "execution_count": 15,
   "metadata": {},
   "outputs": [
    {
     "name": "stdout",
     "output_type": "stream",
     "text": [
      "[1, 4, 9, 16, 25]\n"
     ]
    }
   ],
   "source": [
    "def apply_callback(callback,int_list):\n",
    "    return [callback(y) for y in int_list]\n",
    "\n",
    "\n",
    "def square(x):\n",
    "    return x**2\n",
    "\n",
    "result1=apply_callback(square,[1,2,3,4,5])\n",
    "print(result1)\n"
   ]
  },
  {
   "cell_type": "markdown",
   "metadata": {},
   "source": [
    "5: Function that Returns a Function\n",
    "\n",
    "Define a function that returns another function. The returned function should take an integer and return its square. Test the returned function with different inputs."
   ]
  },
  {
   "cell_type": "code",
   "execution_count": 19,
   "metadata": {},
   "outputs": [
    {
     "name": "stdout",
     "output_type": "stream",
     "text": [
      "25\n",
      "36\n",
      "49\n"
     ]
    }
   ],
   "source": [
    "def create_square():\n",
    "    def square(x):\n",
    "        return x**2\n",
    "    \n",
    "    return square\n",
    "\n",
    "\n",
    "square_func = create_square()\n",
    "result1=square_func(5)\n",
    "result2=square_func(6)\n",
    "\n",
    "result3=square_func(7)\n",
    "\n",
    "\n",
    "print(result1)\n",
    "print(result2)\n",
    "print(result3)"
   ]
  },
  {
   "cell_type": "markdown",
   "metadata": {},
   "source": [
    "6: Function with Decorators\n",
    "\n",
    "Define a function that calculates the time taken to execute another function. Apply this decorator to a function that performs a complex calculation. Test the decorated function with different inputs."
   ]
  },
  {
   "cell_type": "code",
   "execution_count": 22,
   "metadata": {},
   "outputs": [
    {
     "name": "stdout",
     "output_type": "stream",
     "text": [
      "The function complex_calculation took 0.0 seconds to execute.\n",
      "The function complex_calculation took 0.012614727020263672 seconds to execute.\n",
      "The function complex_calculation took 0.07607793807983398 seconds to execute.\n",
      "333383335000 333338333350000 333333833333500000\n"
     ]
    }
   ],
   "source": [
    "import time \n",
    "def time_execution(func):\n",
    "    def wrapper(*args,**kwargs):\n",
    "        start_time=time.time()\n",
    "        result=func(*args,**kwargs)\n",
    "        end_time=time.time()\n",
    "\n",
    "        execution_time=end_time-start_time\n",
    "        print(f\"The function {func.__name__} took {execution_time} seconds to execute.\")\n",
    "        return result\n",
    "    \n",
    "    return wrapper\n",
    "    \n",
    "\n",
    "@time_execution\n",
    "def complex_calculation(n):\n",
    "    result=0 \n",
    "    for i in range(1,n+1):\n",
    "        result+=i**2 \n",
    "    return result\n",
    "\n",
    "result1=complex_calculation(10000)\n",
    "result2 = complex_calculation(100000)\n",
    "result3 = complex_calculation(1000000)\n",
    "\n",
    "print(result1, result2, result3)\n"
   ]
  },
  {
   "cell_type": "markdown",
   "metadata": {},
   "source": [
    " Higher-Order Function for Filtering and Mapping\n",
    "\n",
    "Define a higher-order function that takes two functions, a filter function and a map function, along with a list of integers. The higher-order function should first filter the integers using the filter function and then apply the map function to the filtered integers. Test with different filter and map functions."
   ]
  },
  {
   "cell_type": "code",
   "execution_count": 23,
   "metadata": {},
   "outputs": [],
   "source": [
    "def filter_map(filter_func, map_func,int_list):\n",
    "    filter_list=list(filter(filter_func,int_list))\n",
    "    mapped_list=list(map(map_func,filter_list))\n",
    "\n",
    "    return mapped_list"
   ]
  },
  {
   "cell_type": "code",
   "execution_count": 26,
   "metadata": {},
   "outputs": [
    {
     "name": "stdout",
     "output_type": "stream",
     "text": [
      "[4, 16, 36, 64, 100]\n"
     ]
    }
   ],
   "source": [
    "def is_even(x):\n",
    "    return x%2==0\n",
    "\n",
    "def square(x):\n",
    "    return x**2 \n",
    "\n",
    "result1=filter_map(is_even,square,[1,2,3,4,5,6,7,8,9,10])\n",
    "print(result1)"
   ]
  },
  {
   "cell_type": "markdown",
   "metadata": {},
   "source": [
    " Function Composition\n",
    "\n",
    "Define a function that composes two functions, f and g, such that the result is f(g(x)). Test with different functions f and g."
   ]
  },
  {
   "cell_type": "code",
   "execution_count": 27,
   "metadata": {},
   "outputs": [
    {
     "name": "stdout",
     "output_type": "stream",
     "text": [
      "4.0\n"
     ]
    }
   ],
   "source": [
    "def compose(f,g):\n",
    "    return lambda x: f(g(x))\n",
    "def square(x):\n",
    "    return x ** 2\n",
    "def square_root(x):\n",
    "    return x ** 0.5\n",
    "\n",
    "composed_function_2 = compose(square_root, square)\n",
    "result2 = composed_function_2(4)  # Should be square_root(square(4)) => square_root(16) => 4.0\n",
    "print(result2)"
   ]
  },
  {
   "cell_type": "markdown",
   "metadata": {},
   "source": [
    "9: Partial Function Application\n",
    "\n",
    "Use the functools.partial function to create a new function that multiplies its input by 2. Test the new function with different inputs."
   ]
  },
  {
   "cell_type": "code",
   "execution_count": 29,
   "metadata": {},
   "outputs": [
    {
     "name": "stdout",
     "output_type": "stream",
     "text": [
      "10 20 -6\n"
     ]
    }
   ],
   "source": [
    "from functools import partial\n",
    "\n",
    "def multiply(x,y):\n",
    "    return x*y \n",
    "\n",
    "multiply_by_two = partial(multiply, y=2)\n",
    "\n",
    "result1 = multiply_by_two(5)  # Should be 5 * 2 = 10\n",
    "result2 = multiply_by_two(10) # Should be 10 * 2 = 20\n",
    "result3 = multiply_by_two(-3) # Should be -3 * 2 = -6\n",
    "\n",
    "print(result1, result2, result3)\n"
   ]
  },
  {
   "cell_type": "markdown",
   "metadata": {},
   "source": [
    "10: Function with Error Handling\n",
    "\n",
    "Define a function that takes a list of integers and returns their average. The function should handle any errors that occur (e.g., empty list) and return None in such cases. Test with different inputs."
   ]
  },
  {
   "cell_type": "code",
   "execution_count": 36,
   "metadata": {},
   "outputs": [],
   "source": [
    "def calculate_average(numbers):\n",
    "    try:\n",
    "        if len(numbers)==0:\n",
    "            raise ValueError(\"The list is empty.\")\n",
    "        average=sum(numbers)/len(numbers) \n",
    "        return average\n",
    "    except ZeroDivisionError:\n",
    "        print(\"Error: Division by zero occurred.\")\n",
    "        return None\n",
    "    except TypeError:\n",
    "        print(\"Error: The list contains non-integer values.\")\n",
    "        return None\n",
    "    except ValueError as ve:\n",
    "        print(f\"Error: {ve}\")\n",
    "        return None"
   ]
  },
  {
   "cell_type": "code",
   "execution_count": 37,
   "metadata": {},
   "outputs": [
    {
     "name": "stdout",
     "output_type": "stream",
     "text": [
      "3.0\n"
     ]
    }
   ],
   "source": [
    "result1 = calculate_average([1, 2, 3, 4, 5])\n",
    "print(result1) "
   ]
  },
  {
   "cell_type": "markdown",
   "metadata": {},
   "source": [
    "11: Function with Generators\n",
    "\n",
    "Define a function that generates an infinite sequence of Fibonacci numbers. Test by printing the first 10 numbers in the sequence."
   ]
  },
  {
   "cell_type": "code",
   "execution_count": 39,
   "metadata": {},
   "outputs": [
    {
     "name": "stdout",
     "output_type": "stream",
     "text": [
      "0\n",
      "1\n",
      "1\n",
      "2\n",
      "3\n",
      "5\n",
      "8\n",
      "13\n",
      "21\n",
      "34\n"
     ]
    }
   ],
   "source": [
    "def fib():\n",
    "    a,b=0,1 \n",
    "    while True:\n",
    "        yield a\n",
    "        a,b=b,a+b\n",
    "\n",
    "fib_gen = fib()\n",
    "# Print the first 10 Fibonacci numbers\n",
    "for _ in range(10):\n",
    "    print(next(fib_gen))\n",
    "\n"
   ]
  },
  {
   "cell_type": "markdown",
   "metadata": {},
   "source": [
    "### Assignment 12: Currying\n",
    "\n",
    "Define a curried function that takes three arguments, one at a time, and returns their product. Test the function by providing arguments one at a time."
   ]
  },
  {
   "cell_type": "code",
   "execution_count": 40,
   "metadata": {},
   "outputs": [
    {
     "name": "stdout",
     "output_type": "stream",
     "text": [
      "24\n"
     ]
    }
   ],
   "source": [
    "def curried_multiply(x):\n",
    "    def inner_y(y):\n",
    "        def inner_z(z):\n",
    "            return x * y * z\n",
    "        return inner_z\n",
    "    return inner_y\n",
    "\n",
    "# Step 1: Provide the first argument\n",
    "step1 = curried_multiply(2)\n",
    "\n",
    "# Step 2: Provide the second argument\n",
    "step2 = step1(3)\n",
    "\n",
    "# Step 3: Provide the third argument and get the result\n",
    "result = step2(4)\n",
    "\n",
    "print(result)  # Expected output: 2 * 3 * 4 = 24\n",
    "\n"
   ]
  },
  {
   "cell_type": "markdown",
   "metadata": {},
   "source": [
    " 13: Function with Context Manager\n",
    "\n",
    "Define a function that uses a context manager to write a list of integers to a file. The function should handle any errors that occur during file operations. Test with different lists."
   ]
  },
  {
   "cell_type": "code",
   "execution_count": 41,
   "metadata": {},
   "outputs": [],
   "source": [
    "def write_integers_to_file(filename, integers):\n",
    "    try:\n",
    "        with open(filename, 'w') as file:\n",
    "            for number in integers:\n",
    "                file.write(f\"{number}\\n\")\n",
    "    except IOError as e:\n",
    "        print(f\"An error occurred while writing to the file: {e}\")\n",
    "\n",
    "write_integers_to_file(\"output1.txt\", [1, 2, 3, 4, 5])\n"
   ]
  },
  {
   "cell_type": "markdown",
   "metadata": {},
   "source": [
    " 14: Function with Multiple Return Types\n",
    "\n",
    "Define a function that takes a list of mixed data types (integers, strings, and floats) and returns three lists: one containing all the integers, one containing all the strings, and one containing all the floats. Test with different inputs."
   ]
  },
  {
   "cell_type": "code",
   "execution_count": 42,
   "metadata": {},
   "outputs": [
    {
     "name": "stdout",
     "output_type": "stream",
     "text": [
      "([1, 42], ['apple', 'banana'], [3.14, 2.718])\n"
     ]
    }
   ],
   "source": [
    "def separate_data_types(mixed_list):\n",
    "    integers = []\n",
    "    strings = []\n",
    "    floats = []\n",
    "    \n",
    "    for item in mixed_list:\n",
    "        if isinstance(item, int):\n",
    "            integers.append(item)\n",
    "        elif isinstance(item, str):\n",
    "            strings.append(item)\n",
    "        elif isinstance(item, float):\n",
    "            floats.append(item)\n",
    "    \n",
    "    return integers, strings, floats\n",
    "\n",
    "\n",
    "result1 = separate_data_types([1, \"apple\", 3.14, 42, \"banana\", 2.718])\n",
    "print(result1)\n",
    "\n"
   ]
  },
  {
   "cell_type": "markdown",
   "metadata": {},
   "source": [
    "15: Function with State\n",
    "\n",
    "Define a function that maintains state between calls using a mutable default argument. The function should keep track of how many times it has been called. Test by calling the function multiple times."
   ]
  },
  {
   "cell_type": "code",
   "execution_count": 46,
   "metadata": {},
   "outputs": [
    {
     "name": "stdout",
     "output_type": "stream",
     "text": [
      "1\n",
      "2\n",
      "3\n"
     ]
    }
   ],
   "source": [
    "def call_counter(counter={\"count\": 0}):\n",
    "    counter[\"count\"] += 1\n",
    "    return counter[\"count\"]\n",
    "\n",
    "# First call\n",
    "print(call_counter())  # Expected output: 1\n",
    "\n",
    "# Second call\n",
    "print(call_counter())  # Expected output: 2\n",
    "\n",
    "# Third call\n",
    "print(call_counter())  # Expected output: 3\n"
   ]
  },
  {
   "cell_type": "code",
   "execution_count": null,
   "metadata": {},
   "outputs": [],
   "source": []
  },
  {
   "cell_type": "code",
   "execution_count": null,
   "metadata": {},
   "outputs": [],
   "source": []
  },
  {
   "cell_type": "code",
   "execution_count": null,
   "metadata": {},
   "outputs": [],
   "source": []
  },
  {
   "cell_type": "markdown",
   "metadata": {},
   "source": []
  }
 ],
 "metadata": {
  "kernelspec": {
   "display_name": "base",
   "language": "python",
   "name": "python3"
  },
  "language_info": {
   "codemirror_mode": {
    "name": "ipython",
    "version": 3
   },
   "file_extension": ".py",
   "mimetype": "text/x-python",
   "name": "python",
   "nbconvert_exporter": "python",
   "pygments_lexer": "ipython3",
   "version": "3.11.7"
  }
 },
 "nbformat": 4,
 "nbformat_minor": 2
}
