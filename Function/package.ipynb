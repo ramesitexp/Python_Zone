{
 "cells": [
  {
   "cell_type": "markdown",
   "metadata": {},
   "source": [
    "1: Importing and Using Modules\n",
    "\n",
    "Import the `math` module and use it to calculate the square root of 25 and the sine of 90 degrees."
   ]
  },
  {
   "cell_type": "code",
   "execution_count": 1,
   "metadata": {},
   "outputs": [
    {
     "name": "stdout",
     "output_type": "stream",
     "text": [
      "5.0\n",
      "0.8939966636005579\n"
     ]
    }
   ],
   "source": [
    "import math\n",
    "print(math.sqrt(25))\n",
    "print(math.sin(90))"
   ]
  },
  {
   "cell_type": "markdown",
   "metadata": {},
   "source": [
    "2: Aliasing Modules\n",
    "\n",
    "Import the `datetime` module with an alias and use it to print the current date and time."
   ]
  },
  {
   "cell_type": "code",
   "execution_count": 2,
   "metadata": {},
   "outputs": [
    {
     "name": "stdout",
     "output_type": "stream",
     "text": [
      "Current date and time: 2024-08-29 16:15:35.835514\n"
     ]
    }
   ],
   "source": [
    "import datetime as dt\n",
    "current_datetime=dt.datetime.now()\n",
    "print(\"Current date and time:\", current_datetime)\n"
   ]
  },
  {
   "cell_type": "markdown",
   "metadata": {},
   "source": [
    "3: Importing Specific Functions\n",
    "\n",
    "Import the `randint` function from the `random` module and use it to generate a random integer between 1 and 100."
   ]
  },
  {
   "cell_type": "code",
   "execution_count": 24,
   "metadata": {},
   "outputs": [
    {
     "name": "stdout",
     "output_type": "stream",
     "text": [
      "Random integer between 1 and 100: 9\n"
     ]
    }
   ],
   "source": [
    "from random import randint\n",
    "random_number = randint(1, 100)\n",
    "print(\"Random integer between 1 and 100:\", random_number)\n"
   ]
  },
  {
   "cell_type": "markdown",
   "metadata": {},
   "source": [
    " 4: Importing Multiple Functions\n",
    "\n",
    "Import the `sqrt` and `pow` functions from the `math` module and use them to calculate the square root of 16 and 2 raised to the power of 3.\n"
   ]
  },
  {
   "cell_type": "code",
   "execution_count": 25,
   "metadata": {},
   "outputs": [
    {
     "name": "stdout",
     "output_type": "stream",
     "text": [
      "Square root of 16: 4.0\n",
      "2 raised to the power of 3: 8.0\n"
     ]
    }
   ],
   "source": [
    "from math import sqrt, pow\n",
    "square_root = sqrt(16)\n",
    "print(\"Square root of 16:\", square_root)\n",
    "power_result = pow(2, 3)\n",
    "print(\"2 raised to the power of 3:\", power_result)\n"
   ]
  },
  {
   "cell_type": "markdown",
   "metadata": {},
   "source": [
    " 5: Handling Import Errors\n",
    "\n",
    "Write code that attempts to import a non-existent module and gracefully handles the import error by printing an error message."
   ]
  },
  {
   "cell_type": "code",
   "execution_count": 26,
   "metadata": {},
   "outputs": [
    {
     "name": "stdout",
     "output_type": "stream",
     "text": [
      "Error: No module named 'non_existent_module'\n"
     ]
    }
   ],
   "source": [
    "try:\n",
    "    import non_existent_module\n",
    "except ImportError as e:\n",
    "    print(f\"Error: {e}\")\n"
   ]
  },
  {
   "cell_type": "markdown",
   "metadata": {},
   "source": [
    " 6: Working with the `os` Module\n",
    "\n",
    "Use the `os` module to create a new directory, list the contents of the current directory, and remove the newly created directory."
   ]
  },
  {
   "cell_type": "code",
   "execution_count": null,
   "metadata": {},
   "outputs": [],
   "source": [
    "import os\n",
    "\n",
    "# Step 1: Create a new directory\n",
    "os.mkdir(\"new_directory\")\n",
    "print(\"Directory 'new_directory' created.\")\n",
    "\n",
    "# Step 2: List the contents of the current directory\n",
    "contents_before_removal = os.listdir(\".\")\n",
    "print(\"Contents of the current directory before removal:\", contents_before_removal)\n",
    "\n",
    "# Step 3: Remove the newly created directory\n",
    "os.rmdir(\"new_directory\")\n",
    "print(\"Directory 'new_directory' removed.\")\n",
    "\n",
    "# List the contents after removal to ensure the directory is deleted\n",
    "contents_after_removal = os.listdir(\".\")\n",
    "print(\"Contents of the current directory after removal:\", contents_after_removal)\n"
   ]
  },
  {
   "cell_type": "markdown",
   "metadata": {},
   "source": [
    " 7: Working with the `sys` Module\n",
    "\n",
    "Use the `sys` module to print the Python version currently in use and the command-line arguments passed to the script."
   ]
  },
  {
   "cell_type": "code",
   "execution_count": 27,
   "metadata": {},
   "outputs": [
    {
     "name": "stdout",
     "output_type": "stream",
     "text": [
      "Python version: 3.11.7 | packaged by Anaconda, Inc. | (main, Dec 15 2023, 18:05:47) [MSC v.1916 64 bit (AMD64)]\n",
      "Command-line arguments: ['c:\\\\Users\\\\rames\\\\anaconda3\\\\Lib\\\\site-packages\\\\ipykernel_launcher.py', '--f=c:\\\\Users\\\\rames\\\\AppData\\\\Roaming\\\\jupyter\\\\runtime\\\\kernel-v2-9504c4gkXHRS0n7G.json']\n"
     ]
    }
   ],
   "source": [
    "import sys\n",
    "\n",
    "# Print the Python version\n",
    "print(\"Python version:\", sys.version)\n",
    "\n",
    "# Print the command-line arguments\n",
    "print(\"Command-line arguments:\", sys.argv)\n"
   ]
  },
  {
   "cell_type": "markdown",
   "metadata": {},
   "source": [
    "8: Working with the `math` Module\n",
    "\n",
    "Use the `math` module to calculate the greatest common divisor (GCD) of two numbers and the factorial of a number."
   ]
  },
  {
   "cell_type": "code",
   "execution_count": 28,
   "metadata": {},
   "outputs": [
    {
     "name": "stdout",
     "output_type": "stream",
     "text": [
      "GCD of 48 and 180: 12\n",
      "Factorial of 5: 120\n"
     ]
    }
   ],
   "source": [
    "import math\n",
    "\n",
    "# Calculate the GCD of two numbers\n",
    "gcd_result = math.gcd(48, 180)\n",
    "print(\"GCD of 48 and 180:\", gcd_result)\n",
    "\n",
    "# Calculate the factorial of a number\n",
    "factorial_result = math.factorial(5)\n",
    "print(\"Factorial of 5:\", factorial_result)\n"
   ]
  },
  {
   "cell_type": "markdown",
   "metadata": {},
   "source": [
    "9: Working with the `datetime` Module\n",
    "\n",
    "Use the `datetime` module to print the current date, calculate the date 100 days from today, and determine the day of the week for a given date."
   ]
  },
  {
   "cell_type": "code",
   "execution_count": 29,
   "metadata": {},
   "outputs": [
    {
     "name": "stdout",
     "output_type": "stream",
     "text": [
      "Current date: 2024-08-29\n",
      "Date 100 days from today: 2024-12-07\n",
      "Day of the week for 2023-12-25: Monday\n"
     ]
    }
   ],
   "source": [
    "from datetime import datetime, timedelta\n",
    "\n",
    "# Print the current date\n",
    "current_date = datetime.now().date()\n",
    "print(\"Current date:\", current_date)\n",
    "\n",
    "# Calculate the date 100 days from today\n",
    "future_date = current_date + timedelta(days=100)\n",
    "print(\"Date 100 days from today:\", future_date)\n",
    "\n",
    "# Determine the day of the week for a given date\n",
    "given_date = datetime(2023, 12, 25).date()\n",
    "day_of_week = given_date.strftime(\"%A\")\n",
    "print(\"Day of the week for 2023-12-25:\", day_of_week)\n"
   ]
  },
  {
   "cell_type": "markdown",
   "metadata": {},
   "source": [
    "10: Working with the `random` Module\n",
    "\n",
    "Use the `random` module to generate a list of 5 random numbers between 1 and 50 and shuffle the elements of a list."
   ]
  },
  {
   "cell_type": "code",
   "execution_count": 51,
   "metadata": {},
   "outputs": [
    {
     "name": "stdout",
     "output_type": "stream",
     "text": [
      "List of 5 random numbers between 1 and 50: [36, 46, 11, 14, 22]\n",
      "Shuffled list: [5, 2, 3, 1, 4]\n"
     ]
    }
   ],
   "source": [
    "import random\n",
    "\n",
    "# Generate a list of 5 random numbers between 1 and 50\n",
    "random_numbers = [random.randint(1, 50) for _ in range(5)]\n",
    "print(\"List of 5 random numbers between 1 and 50:\", random_numbers)\n",
    "\n",
    "# Shuffle the elements of a list\n",
    "sample_list = [1, 2, 3, 4, 5]\n",
    "random.shuffle(sample_list)\n",
    "print(\"Shuffled list:\", sample_list)\n"
   ]
  },
  {
   "cell_type": "markdown",
   "metadata": {},
   "source": [
    "11: Creating a Simple Package\n",
    "\n",
    "Create a package named `mypackage` with two modules: `module1` and `module2`. `module1` should contain a function that adds two numbers, and `module2` should contain a function that multiplies two numbers. Write code to use these functions."
   ]
  },
  {
   "cell_type": "code",
   "execution_count": null,
   "metadata": {},
   "outputs": [],
   "source": []
  },
  {
   "cell_type": "markdown",
   "metadata": {},
   "source": []
  },
  {
   "cell_type": "code",
   "execution_count": null,
   "metadata": {},
   "outputs": [],
   "source": []
  },
  {
   "cell_type": "code",
   "execution_count": null,
   "metadata": {},
   "outputs": [],
   "source": []
  },
  {
   "cell_type": "code",
   "execution_count": null,
   "metadata": {},
   "outputs": [],
   "source": []
  },
  {
   "cell_type": "code",
   "execution_count": null,
   "metadata": {},
   "outputs": [],
   "source": []
  },
  {
   "cell_type": "code",
   "execution_count": null,
   "metadata": {},
   "outputs": [],
   "source": []
  },
  {
   "cell_type": "markdown",
   "metadata": {},
   "source": []
  }
 ],
 "metadata": {
  "kernelspec": {
   "display_name": "base",
   "language": "python",
   "name": "python3"
  },
  "language_info": {
   "codemirror_mode": {
    "name": "ipython",
    "version": 3
   },
   "file_extension": ".py",
   "mimetype": "text/x-python",
   "name": "python",
   "nbconvert_exporter": "python",
   "pygments_lexer": "ipython3",
   "version": "3.11.7"
  }
 },
 "nbformat": 4,
 "nbformat_minor": 2
}
