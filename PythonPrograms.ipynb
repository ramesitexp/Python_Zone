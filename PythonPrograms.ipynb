{
  "nbformat": 4,
  "nbformat_minor": 0,
  "metadata": {
    "colab": {
      "provenance": [],
      "authorship_tag": "ABX9TyPZWEcm65VE3AIpbEHQkMK8",
      "include_colab_link": true
    },
    "kernelspec": {
      "name": "python3",
      "display_name": "Python 3"
    },
    "language_info": {
      "name": "python"
    }
  },
  "cells": [
    {
      "cell_type": "markdown",
      "metadata": {
        "id": "view-in-github",
        "colab_type": "text"
      },
      "source": [
        "<a href=\"https://colab.research.google.com/github/ramesitexp/Python_Zone/blob/main/PythonPrograms.ipynb\" target=\"_parent\"><img src=\"https://colab.research.google.com/assets/colab-badge.svg\" alt=\"Open In Colab\"/></a>"
      ]
    },
    {
      "cell_type": "code",
      "execution_count": null,
      "metadata": {
        "colab": {
          "base_uri": "https://localhost:8080/"
        },
        "id": "AJb1-oObzgbO",
        "outputId": "85055dce-f362-41d9-ee6f-96763ae064d3"
      },
      "outputs": [
        {
          "output_type": "stream",
          "name": "stdout",
          "text": [
            "Enther the first number:40\n",
            "Enther the second number:40\n",
            "Sum is  80.0\n"
          ]
        }
      ],
      "source": [
        "#1 WAP to accept two numbers from the user and display their sum\n",
        "\n",
        "num1=float(input(\"Enther the first number:\"))\n",
        "num2=float(input(\"Enther the second number:\"))\n",
        "\n",
        "print(\"Sum is \",(num1+num2))"
      ]
    },
    {
      "cell_type": "code",
      "source": [
        "#2WAP to accept radius of a Circle from the user and calculate area and circumference\n",
        "value=float(input(\"Enter your value is:\"))\n",
        "print(\"Area of the Circle(pi*r2): \", (3.14*(value**2)))\n",
        "print(\"Circumference of the Circle(2*pi*r): \",(2*(3.14*value)))"
      ],
      "metadata": {
        "colab": {
          "base_uri": "https://localhost:8080/"
        },
        "id": "t4-ViaCt0DE4",
        "outputId": "430f6d13-9f9f-4498-acd3-df9b3ddbd933"
      },
      "execution_count": null,
      "outputs": [
        {
          "output_type": "stream",
          "name": "stdout",
          "text": [
            "Enter your value is:4.5\n",
            "Area of the Circle(pi*r2):  63.585\n",
            "Circumference of the Circle(2*pi*r):  28.26\n"
          ]
        }
      ]
    },
    {
      "cell_type": "code",
      "source": [
        "#3 WAP to accept roll number , grade and percentage as input from the user and display it back\n",
        "roll_num=int(input(\"Enter your roll number is:\"))\n",
        "grade=input(\"Enter your grade from (A/B/C/D):\")\n",
        "percentage=float(input(\"Enter your percentage of Marks:\"))\n",
        "\n",
        "print(\"####\"*10)\n",
        "print(\"RollNumber\\tgrade\\tpercentage\")\n",
        "print(\"------\"*6)\n",
        "print(roll_num,\"\\t\\t\",grade,\"\\t\",percentage)\n",
        "print(\"####\"*10)"
      ],
      "metadata": {
        "colab": {
          "base_uri": "https://localhost:8080/"
        },
        "id": "F9eyLUPC1Zsx",
        "outputId": "a429b9d9-c0d4-491d-fc73-e572e0a6fbce"
      },
      "execution_count": null,
      "outputs": [
        {
          "output_type": "stream",
          "name": "stdout",
          "text": [
            "Enter your roll number is:13\n",
            "Enter your grade from (A/B/C/D):B\n",
            "Enter your percentage of Marks:67\n",
            "########################################\n",
            "RollNumber\tgrade\tpercentage\n",
            "------------------------------------\n",
            "13 \t\t B \t 67.0\n",
            "########################################\n"
          ]
        }
      ]
    },
    {
      "cell_type": "code",
      "source": [
        "#4 Write a program that asks the user to enter his/her name\n",
        "#and age. Print out a message , displaying the user’s name\n",
        "#along with the year in which they will turn 100 years old.\n",
        "\n",
        "\n",
        "import datetime\n",
        "year=datetime.datetime.today().year\n",
        "user_name=input(\"Enter your User Name:\")\n",
        "age=int(input(\"Enter your age:\"))\n",
        "\n",
        "if age<100:\n",
        "  uage=100-age\n",
        "  print(\"UserName:\",user_name)\n",
        "  print(\"User has to turn 100 years old at the year of\",(year+uage))"
      ],
      "metadata": {
        "colab": {
          "base_uri": "https://localhost:8080/"
        },
        "id": "63VF46QP3Tgg",
        "outputId": "32d9f1a9-c2a4-48c4-e5e5-3febc7e6562c"
      },
      "execution_count": null,
      "outputs": [
        {
          "output_type": "stream",
          "name": "stdout",
          "text": [
            "Enter your User Name:Mayank\n",
            "Enter your age:41\n",
            "UserName: Mayank\n",
            "User has to turn 100 years old at the year of 2083\n"
          ]
        }
      ]
    },
    {
      "cell_type": "code",
      "source": [
        "#5 Write a Python program which accepts the user's first and\n",
        "#last name and print them in reverse order with a space\n",
        "#between them.\n",
        "first_name=input(\"Enter Your FirstName:\")\n",
        "last_name=input(\"Enter Your LastName:\")\n",
        "\n",
        "print(\"Reverse order with a space between them\\t\", first_name[::-1]+\" \"+last_name[::-1])"
      ],
      "metadata": {
        "colab": {
          "base_uri": "https://localhost:8080/"
        },
        "id": "rNMo_Dz85Xe_",
        "outputId": "85b2d689-e371-494b-fc64-03f1efba7c2f"
      },
      "execution_count": null,
      "outputs": [
        {
          "output_type": "stream",
          "name": "stdout",
          "text": [
            "Enter Your FirstName:Mayank\n",
            "Enter Your LastName:Agarwal\n",
            "Reverse order with a space between them\t knayaM lawragA\n"
          ]
        }
      ]
    },
    {
      "cell_type": "code",
      "source": [
        "#6WAP to accept an integer from the user and check\n",
        "#whether it is an even or odd\n",
        "\n",
        "number=int(input(\"Enter your input number is:\"))\n",
        "\n",
        "if number%2==0:\n",
        "  print(\"It's a Even Number\")\n",
        "else:\n",
        "  print(\"It's Odd Number\")"
      ],
      "metadata": {
        "colab": {
          "base_uri": "https://localhost:8080/"
        },
        "id": "hOsYOP4R6LJ7",
        "outputId": "55acb60f-45ac-465c-cb12-b37b21d655a5"
      },
      "execution_count": null,
      "outputs": [
        {
          "output_type": "stream",
          "name": "stdout",
          "text": [
            "Enter your input number is:46\n",
            "It's a Even Number\n"
          ]
        }
      ]
    },
    {
      "cell_type": "code",
      "source": [
        "#7 WAP to accept a character from the user and check\n",
        "#whether is a capital letter or small letter. Assume\n",
        "#user will input only alphabets\n",
        "alpha=input(\"Enter your alphabet's chracter:\")\n",
        "if ord(alpha)>=65 and ord(alpha)<=90:\n",
        "  print(\"It's a capital letter\")\n",
        "elif ord(alpha)>=97 and ord(alpha)<=122:\n",
        "  print(\"It's a small letter\")\n",
        "else:\n",
        "  print(\"Invalid input\")\n"
      ],
      "metadata": {
        "colab": {
          "base_uri": "https://localhost:8080/"
        },
        "id": "0xmD7iVP63F_",
        "outputId": "6d2b7a42-e2b3-4050-8563-aa385074f5b4"
      },
      "execution_count": null,
      "outputs": [
        {
          "output_type": "stream",
          "name": "stdout",
          "text": [
            "Enter your alphabet's chracter:b\n",
            "It's a small letter\n"
          ]
        }
      ]
    },
    {
      "cell_type": "code",
      "source": [
        "#8WAP to accept a character from the user and check\n",
        "#whether it is a capital letter or small letter or a digit\n",
        "#or some special symbol\n",
        "\n",
        "chr=input(\"Enter your character/digit:\")\n",
        "if ord(chr)>=65 and ord(chr)<=90:\n",
        "  print(\"It's a capital letter\")\n",
        "elif ord(chr)>=97 and ord(chr)<=122:\n",
        "  print(\"It's a small letter\")\n",
        "elif ord(chr)>=48 and ord(chr)<=57:\n",
        "  print(\"It's a digit\")\n",
        "elif chr in \"!@#$%^&*()_+~\":\n",
        "  print(\"It's a special character\")\n",
        "else:\n",
        "  print(\"Invalid input\")\n"
      ],
      "metadata": {
        "colab": {
          "base_uri": "https://localhost:8080/"
        },
        "id": "AlazmA7q8EjG",
        "outputId": "dfc33256-ae8d-42cf-ad75-07a77e6f7082"
      },
      "execution_count": null,
      "outputs": [
        {
          "output_type": "stream",
          "name": "stdout",
          "text": [
            "Enter your character/digit:%\n",
            "It's a special character\n"
          ]
        }
      ]
    },
    {
      "cell_type": "code",
      "source": [
        "#9WAP to accept a year from the user and check whether it is a leap year or not.\n",
        "year=int(input(\"Enter your year details:\"))\n",
        "\n",
        "if (year%400)==0 or (year%4==0 and year%100!=0):\n",
        "  print(year,\"is a leap year\")\n",
        "else:\n",
        "  print(year,\"is not a leap year\")"
      ],
      "metadata": {
        "colab": {
          "base_uri": "https://localhost:8080/"
        },
        "id": "I6aBOof_9kWN",
        "outputId": "23f1aeec-fe1e-4872-b0f8-9229fa7bd420"
      },
      "execution_count": null,
      "outputs": [
        {
          "output_type": "stream",
          "name": "stdout",
          "text": [
            "Enter your year details:2000\n",
            "2000 is a leap year\n"
          ]
        }
      ]
    },
    {
      "cell_type": "code",
      "source": [
        "#10You have to develop a number guessing game.\n",
        "# Following are the steps needed:\n",
        "# ● At first , the program will generate a random integer\n",
        "# secretly between 1 to 50.\n",
        "# ● Now it will ask the user to guess that number .\n",
        "# ● If the user guessed it correctly then the program\n",
        "# prints “Congratulations! You guessed it right” .\n",
        "# ● But if the number guessed by the user is larger than\n",
        "# the secret number then program should print\n",
        "# “Number too large” and , if the number guessed by\n",
        "# the user is smaller than the secret number then the\n",
        "# program should print “Number too small”\n",
        "# ● This should continue until the user guesses the\n",
        "# number correctly or quits .\n",
        "# ● If the user wants to quit in between he will have to\n",
        "# type 0 or negative number\n",
        "\n",
        "import random\n",
        "\n",
        "while True:\n",
        "  lucky_num=int(input(\"Enter your input number is (if exit 0/-ve number):\"))\n",
        "  rand=random.randint(1,50)\n",
        "  print(\"System Random number value is\",rand)\n",
        "  if lucky_num<=0:\n",
        "    print(\"User wanted to exit\")\n",
        "    break\n",
        "  elif lucky_num==rand:\n",
        "    print(\"Congratulations! You guessed it right\")\n",
        "  elif lucky_num>rand:\n",
        "    print(\"Number too large\")\n",
        "  elif lucky_num<rand:\n",
        "    print(\"Number too small\")\n",
        "\n",
        "\n"
      ],
      "metadata": {
        "colab": {
          "base_uri": "https://localhost:8080/"
        },
        "id": "kmE-gePj_BWw",
        "outputId": "5f443209-f3a1-44af-ce56-266d3533cf19"
      },
      "execution_count": null,
      "outputs": [
        {
          "output_type": "stream",
          "name": "stdout",
          "text": [
            "Enter your input number is (if exit 0/-ve number):5\n",
            "System Random number value is 38\n",
            "Number too small\n",
            "Enter your input number is (if exit 0/-ve number):37\n",
            "System Random number value is 29\n",
            "Number too large\n",
            "Enter your input number is (if exit 0/-ve number):-45\n",
            "System Random number value is 14\n",
            "User wanted to exit\n"
          ]
        }
      ]
    },
    {
      "cell_type": "code",
      "source": [
        "#11Write a program to continuously accept integers from the\n",
        "# user until the user types 0 and as soon as 0 is entered\n",
        "# display sum of all the nos entered before 0\n",
        "# Note: Modify the previous code so that if the user inputs a\n",
        "# negative integer , your program should ignore it .\n",
        "num_list=[]\n",
        "while True:\n",
        "  num=int(input(\"Enter your input number value is:\"))\n",
        "  if num==0:\n",
        "    print(\"Sum of number is:\",sum(num_list))\n",
        "    break\n",
        "  else:\n",
        "    num_list.append(num)\n",
        "\n"
      ],
      "metadata": {
        "colab": {
          "base_uri": "https://localhost:8080/"
        },
        "id": "KwOXHdgmBczr",
        "outputId": "ac162de3-f7b4-4c1c-941f-ee4c7216b1ec"
      },
      "execution_count": null,
      "outputs": [
        {
          "output_type": "stream",
          "name": "stdout",
          "text": [
            "Enter your input number value is:89\n",
            "Enter your input number value is:72\n",
            "Enter your input number value is:-34\n",
            "Enter your input number value is:0\n",
            "Sum of number is: 127\n"
          ]
        }
      ]
    },
    {
      "cell_type": "code",
      "source": [
        "#12Write a program using a for loop to accept a string from the user\n",
        "#and display it vertically but don’t display the vowels in it.\n",
        "\n",
        "str=input(\"Enter your input string value is:\")\n",
        "\n",
        "for var in str:\n",
        "  if var not in 'aeiou':\n",
        "    print(var)"
      ],
      "metadata": {
        "colab": {
          "base_uri": "https://localhost:8080/"
        },
        "id": "1-vaHH9EDWJa",
        "outputId": "24beaeae-c116-449e-af7d-11cc2577b80a"
      },
      "execution_count": null,
      "outputs": [
        {
          "output_type": "stream",
          "name": "stdout",
          "text": [
            "Enter your input string value is:mayankagarwal\n",
            "m\n",
            "y\n",
            "n\n",
            "k\n",
            "g\n",
            "r\n",
            "w\n",
            "l\n"
          ]
        }
      ]
    },
    {
      "cell_type": "code",
      "source": [
        "#13Write a program to accept an integer from the user and display the\n",
        "# sum of all the numbers from 1 to that number.\n",
        "num=int(input(\"Enter your input number value is:\"))\n",
        "sum=0\n",
        "for i in range(1,num+1):\n",
        "  sum+=i\n",
        "print(\"Sum of the number is:\",sum)\n"
      ],
      "metadata": {
        "colab": {
          "base_uri": "https://localhost:8080/"
        },
        "id": "nhv3SG24D0_V",
        "outputId": "b3a7e2db-15fe-4d40-c56c-14443d14f4bf"
      },
      "execution_count": null,
      "outputs": [
        {
          "output_type": "stream",
          "name": "stdout",
          "text": [
            "Enter your input number value is:10\n",
            "Sum of the number is: 55\n"
          ]
        }
      ]
    },
    {
      "cell_type": "code",
      "source": [
        "#14Write a program to accept an integer from the user and calculate its factorial\n",
        "num=int(input(\"Enter your input number value is:\"))\n",
        "fact=1\n",
        "for i in range(1,num+1):\n",
        "  fact*=i\n",
        "print(\"Given Factorial value is:\",fact)\n"
      ],
      "metadata": {
        "colab": {
          "base_uri": "https://localhost:8080/"
        },
        "id": "9end3QWrE50k",
        "outputId": "d639ad52-0299-436f-f2fa-28054aec5229"
      },
      "execution_count": null,
      "outputs": [
        {
          "output_type": "stream",
          "name": "stdout",
          "text": [
            "Enter your input number value is:8\n",
            "Given Factorial value is: 40320\n"
          ]
        }
      ]
    },
    {
      "cell_type": "code",
      "source": [
        "#15Write a program to print the following pattern\n",
        "'''\n",
        "  * * *\n",
        "  * * *\n",
        "  * * *'''\n",
        "num=int(input(\"Give the value is:\"))\n",
        "for i in range(num):\n",
        "  for j in range(num):\n",
        "    print('*',end=\" \")\n",
        "  print()"
      ],
      "metadata": {
        "colab": {
          "base_uri": "https://localhost:8080/"
        },
        "id": "v4AGPgb1Feqr",
        "outputId": "4f297e5e-b3a3-48a4-f59d-cb7710c975b8"
      },
      "execution_count": null,
      "outputs": [
        {
          "output_type": "stream",
          "name": "stdout",
          "text": [
            "Give the value is:5\n",
            "* * * * * \n",
            "* * * * * \n",
            "* * * * * \n",
            "* * * * * \n",
            "* * * * * \n"
          ]
        }
      ]
    },
    {
      "cell_type": "code",
      "source": [
        "#16Write a program to print the following pattern\n",
        "'''\n",
        "  *\n",
        "  * *\n",
        "  * * *\n",
        "  * * * *\n",
        "  '''\n",
        "\n",
        "num=int(input(\"Give the value is:\"))\n",
        "for i in range(num):\n",
        "  for j in range(i+1):\n",
        "    print('*',end=\" \")\n",
        "  print()"
      ],
      "metadata": {
        "colab": {
          "base_uri": "https://localhost:8080/"
        },
        "id": "QGFqniKNGNH-",
        "outputId": "cb678bf9-801a-44f3-83ef-121486b3a91e"
      },
      "execution_count": null,
      "outputs": [
        {
          "output_type": "stream",
          "name": "stdout",
          "text": [
            "Give the value is:5\n",
            "* \n",
            "* * \n",
            "* * * \n",
            "* * * * \n",
            "* * * * * \n"
          ]
        }
      ]
    },
    {
      "cell_type": "code",
      "source": [
        "#17Write a program to print the following pattern\n",
        "'''\n",
        "  * * * *\n",
        "  * * *\n",
        "  * *\n",
        "  *\n",
        "  '''\n",
        "\n",
        "num=int(input(\"Give the value is:\"))\n",
        "for i in range(num):\n",
        "  for j in range(num-i):\n",
        "    print('*',end=\" \")\n",
        "\n",
        "  print()"
      ],
      "metadata": {
        "colab": {
          "base_uri": "https://localhost:8080/"
        },
        "id": "Pi6_ntgAGfQ3",
        "outputId": "c8ee5520-3fce-4208-fc97-e1d976ecade9"
      },
      "execution_count": null,
      "outputs": [
        {
          "output_type": "stream",
          "name": "stdout",
          "text": [
            "Give the value is:5\n",
            "* * * * * \n",
            "* * * * \n",
            "* * * \n",
            "* * \n",
            "* \n"
          ]
        }
      ]
    },
    {
      "cell_type": "code",
      "source": [
        "#18Write a program to accept an integer from the user and\n",
        "#display all the numbers from 1 to that number. Repeat the\n",
        "#process until the user enters 0.\n",
        "while True:\n",
        "  num=int(input(\"Enter your input value is(0 to quit):\"))\n",
        "  if num>0:\n",
        "    for i in range(1,num+1):\n",
        "      print(i, end=\" \")\n",
        "    print(\"\")\n",
        "  else:\n",
        "    print(\"you gave number 0, its quited\")\n",
        "    break5"
      ],
      "metadata": {
        "id": "nSAqPb3gHpJf",
        "colab": {
          "base_uri": "https://localhost:8080/"
        },
        "outputId": "8190da26-6d63-4c13-da47-460dad2ce93c"
      },
      "execution_count": 66,
      "outputs": [
        {
          "output_type": "stream",
          "name": "stdout",
          "text": [
            "Enter your input value is(0 to quit):1\n",
            "1 \n",
            "Enter your input value is(0 to quit):2\n",
            "1 2 \n",
            "Enter your input value is(0 to quit):3\n",
            "1 2 3 \n",
            "Enter your input value is(0 to quit):4\n",
            "1 2 3 4 \n",
            "Enter your input value is(0 to quit):5\n",
            "1 2 3 4 5 \n",
            "Enter your input value is(0 to quit):6\n",
            "1 2 3 4 5 6 \n",
            "Enter your input value is(0 to quit):0\n",
            "you gave number 0, its quited\n"
          ]
        }
      ]
    },
    {
      "cell_type": "code",
      "source": [],
      "metadata": {
        "id": "OiRc6oWFR0lz"
      },
      "execution_count": null,
      "outputs": []
    },
    {
      "cell_type": "markdown",
      "source": [],
      "metadata": {
        "id": "b9T1dPVF6Dfe"
      }
    }
  ]
}